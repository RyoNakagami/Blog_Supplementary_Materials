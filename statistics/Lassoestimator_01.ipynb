{
 "cells": [
  {
   "cell_type": "markdown",
   "metadata": {},
   "source": [
    "## Lasso推定量の数値計算方法の確認"
   ]
  },
  {
   "cell_type": "code",
   "execution_count": 1,
   "metadata": {},
   "outputs": [],
   "source": [
    "## import\n",
    "import pandas as pd\n",
    "import matplotlib.pyplot as plt\n",
    "import numpy as np\n",
    "import cvxpy as cp\n",
    "import statsmodels.api as sm\n",
    "from sklearn import datasets\n",
    "from sklearn.linear_model import Lasso\n",
    "from sklearn.model_selection import train_test_split\n",
    "from sklearn.linear_model import LinearRegression\n",
    "\n",
    "## seed\n",
    "np.random.seed(42)\n"
   ]
  },
  {
   "cell_type": "markdown",
   "metadata": {},
   "source": [
    "### 1. 凸二次計画にもとづく推定量の計算\n",
    "\n",
    "> データの生成\n",
    "\n",
    "- 100 observation, 観測単位のindexは$i \\in \\{1, ..., 100\\}$\n",
    "- $j\\in \\{1, 2, \\cdots, 30\\}$について、それぞれ独立に$X_{ij}\\sim N(0, 1)$に従うdataを生成\n",
    "- noiseとして$\\epsilon_i\\sim N(0, 1)$\n",
    "- outcome, $y_i$,は以下の式に基づいて生成\n",
    "\n",
    "$$\n",
    "y_i = \\sum_{j=1}^{10} \\beta_j x_{ij} + \\epsilon_i\n",
    "$$\n",
    "\n",
    "なお、$\\beta_j$についてはコーディングパートを参照\n",
    "\n",
    "> 凸二次計画にもとづく推定量について\n",
    "\n",
    "- 目的関数を定式化し、凸最適化ソルバーCVYPYで解かせる方針とする\n",
    "- 定式化された目的関数の数値計算アルゴリズムはここでは紹介しない\n",
    "\n",
    "> ここで検証すること\n",
    "\n",
    "scikit-learn, statsmodels, 凸二次計画にもとづく推定量それぞれにおける損失関数レベルを計算\n",
    "\n",
    "- scikit-learn: coordicate descent\n",
    "- statsmodels: cvxoptベースで凸二次計画を解いている（今回は`sqrt_lasso`ベース）\n",
    "- 自作: 凸最適化ソルバーCVYPYで解かせる\n"
   ]
  },
  {
   "cell_type": "markdown",
   "metadata": {},
   "source": [
    "#### 1.1: 損失関数とCVYPY-based estimatorの構築"
   ]
  },
  {
   "cell_type": "code",
   "execution_count": 2,
   "metadata": {},
   "outputs": [],
   "source": [
    "## 関数定義\n",
    "def reg_lasso(y, x, penalty):\n",
    "    k = x.shape[1]\n",
    "    beta, z = cp.Variable(k), cp.Variable(k)\n",
    "\n",
    "    obj = cp.Minimize(sum(cp.square(y - x @ beta)) + penalty * sum(z))\n",
    "    cons = [\n",
    "            z >= beta,\n",
    "            z >= -beta\n",
    "            ]\n",
    "    \n",
    "    Problem = cp.Problem(obj, cons)\n",
    "    Problem.solve(verbose = False)\n",
    "\n",
    "    return beta.value\n",
    "\n",
    "## 損失関数の定義\n",
    "def cal_loss(_y, _X, _param, _penalty):\n",
    "    predict = _X @ _param\n",
    "    loss = np.sum((_y - predict)**2) + _penalty * sum(abs(_param))\n",
    "\n",
    "    return loss"
   ]
  },
  {
   "cell_type": "markdown",
   "metadata": {},
   "source": [
    "#### 1-2: データ生成"
   ]
  },
  {
   "cell_type": "code",
   "execution_count": 3,
   "metadata": {},
   "outputs": [],
   "source": [
    "## read data\n",
    "def generate_data(_beta, _mu_x, _std_x, _mu_eps, _std_eps, _N, _P):\n",
    "    eps = np.random.normal(_mu_eps, _std_eps, _N)\n",
    "    X = np.random.normal(_mu_x, _std_x, size=(_N, _P))\n",
    "    y = np.dot(X, _beta) + eps\n",
    "\n",
    "    return y, X, eps\n",
    "\n",
    "## parameters\n",
    "N = 100 # sample size\n",
    "P = 30    # rank\n",
    "mu_eps, std_eps = 0, 1\n",
    "mu_x, std_x = 0, 1\n",
    "\n",
    "## simulation data\n",
    "### making coefficients\n",
    "#beta_1 = np.random.uniform(0.5, 1.0, 5)\n",
    "#beta_2 = np.random.uniform(-1.0, -0.5, 5)\n",
    "\n",
    "beta_1 = np.array([0.68727006, 0.97535715, 0.86599697, 0.79932924, 0.57800932])\n",
    "beta_2 = np.array([-0.92200274, -0.97095819, -0.56691193, -0.69944249, -0.64596371])\n",
    "beta_3 = np.zeros(20)\n",
    "beta = np.concatenate([beta_1, beta_2, beta_3], 0)\n",
    "\n",
    "### creating dataset\n",
    "y, X, eps = generate_data(beta, mu_x, std_x, mu_eps, std_eps, N, P)"
   ]
  },
  {
   "cell_type": "markdown",
   "metadata": {},
   "source": [
    "#### 1-3: Lasso Regression"
   ]
  },
  {
   "cell_type": "code",
   "execution_count": 4,
   "metadata": {},
   "outputs": [],
   "source": [
    "## estimate\n",
    "st_lasso_model = sm.OLS(y, X)\n",
    "\n",
    "## learning\n",
    "penalty = 10\n",
    "\n",
    "## sklearn\n",
    "lasso = Lasso(alpha=penalty/(2*N), fit_intercept = False)\n",
    "lasso.fit(X, y)\n",
    "\n",
    "## statsmodel-based regression\n",
    "st_result = st_lasso_model.fit_regularized(\n",
    "                                        method='sqrt_lasso',\n",
    "                                        alpha=penalty,\n",
    "                                        L1_wt=1.0,\n",
    "                                        start_params=None,\n",
    "                                        profile_scale=False,\n",
    "                                        refit=False\n",
    "                                        )\n",
    "\n",
    "## cvxpy-based regression\n",
    "beta = reg_lasso(y, X, penalty)"
   ]
  },
  {
   "cell_type": "code",
   "execution_count": 5,
   "metadata": {},
   "outputs": [
    {
     "name": "stdout",
     "output_type": "stream",
     "text": [
      "137.3641886728875\n",
      "140.05338256962267\n",
      "137.36418956509053\n"
     ]
    }
   ],
   "source": [
    "### 損失関数の計算\n",
    "print(cal_loss(y, X, beta, penalty))\n",
    "print(cal_loss(y, X, st_result.params, penalty))\n",
    "print(cal_loss(y, X, lasso.coef_, penalty))"
   ]
  },
  {
   "cell_type": "markdown",
   "metadata": {},
   "source": [
    "### 2: Lasso推定量におけるbias-variance decomposition"
   ]
  },
  {
   "cell_type": "code",
   "execution_count": 6,
   "metadata": {},
   "outputs": [],
   "source": [
    "def split_train_test(_y, _X, _split_num):\n",
    "    X_train, X_test = _X[:_split_num], _X[_split_num:]\n",
    "    y_train, y_test = _y[:_split_num], _y[_split_num:]\n",
    "\n",
    "    return X_train, X_test, y_train, y_test\n",
    "\n",
    "def draw_bootstrap_sample(rng, X, y):\n",
    "    sample_indices = np.arange(X.shape[0])\n",
    "    bootstrap_indices = rng.choice(sample_indices,\n",
    "                                   size=sample_indices.shape[0],\n",
    "                                   replace=True)\n",
    "    return X[bootstrap_indices], y[bootstrap_indices]\n",
    "\n",
    "def compute_bias_variance_decomposition(true_estimator,\n",
    "                         X_train, y_train, X_test, y_test,\n",
    "                         iter_num=200, random_seed=42,\n",
    "                         **fit_params):\n",
    "\n",
    "    rng = np.random.RandomState(random_seed)\n",
    "    all_pred = np.zeros((iter_num, y_test.size), dtype=np.float64)\n",
    "    y_true = X_test @ true_estimator\n",
    "\n",
    "    for i in range(iter_num):\n",
    "        X_boot, y_boot = draw_bootstrap_sample(rng, X_train, y_train)\n",
    "        st_lasso_model = sm.OLS(y_boot, X_boot)\n",
    "        st_result = st_lasso_model.fit_regularized(**fit_params)\n",
    "        estimate = st_result.params\n",
    "        y_pred = X_test @ estimate\n",
    "        all_pred[i] = y_pred\n",
    "\n",
    "    mse = np.apply_along_axis(\n",
    "            lambda x:\n",
    "            ((x - y_test)**2).mean(),\n",
    "            axis=1,\n",
    "            arr=all_pred).mean()\n",
    "\n",
    "    \n",
    "    main_predictions = np.mean(all_pred, axis=0)\n",
    "    squared_bias = np.sum((main_predictions - y_true)**2) / y_true.size\n",
    "    mean_variance = np.sum((main_predictions - all_pred)**2) / all_pred.size\n",
    "\n",
    "    return mse, squared_bias, mean_variance"
   ]
  },
  {
   "cell_type": "code",
   "execution_count": 7,
   "metadata": {},
   "outputs": [
    {
     "data": {
      "image/png": "[encoded data removed]",
      "text/plain": [
       "<Figure size 864x576 with 1 Axes>"
      ]
     },
     "metadata": {
      "needs_background": "light"
     },
     "output_type": "display_data"
    }
   ],
   "source": [
    "## simulation params\n",
    "split_num = 70\n",
    "iter_num = 1000\n",
    "penalty_range = np.exp(np.linspace(-5, 7, iter_num))\n",
    "result = np.empty((iter_num, 3))\n",
    "\n",
    "## generate data\n",
    "X_train, X_test, y_train, y_test = split_train_test(y, X, split_num)\n",
    "\n",
    "\n",
    "for array_index, _penalty in enumerate(penalty_range):\n",
    "    result[array_index,:] = compute_bias_variance_decomposition(true_estimator=beta,\n",
    "                                                                X_train=X_train, y_train=y_train, X_test=X_test, y_test=y_test,\n",
    "                                                                iter_num=20, random_seed=42,\n",
    "                                                                alpha = _penalty, method='sqrt_lasso', L1_wt=1.0,\n",
    "                                                                start_params=None, profile_scale=False, refit=False)\n",
    "\n",
    "## plot\n",
    "fig,ax = plt.subplots(figsize=(12,8))\n",
    "ax.plot(penalty_range,result,label = ['Total MSE', 'Squared Bias', 'Model variance'],lw=2)\n",
    "ax.set_title('The Lasso estimate decomposition as penalty larger', fontsize=20)\n",
    "ax.set_xlabel('penalty', fontsize=16)\n",
    "ax.set_xscale('log')\n",
    "ax.legend();"
   ]
  },
  {
   "cell_type": "code",
   "execution_count": null,
   "metadata": {},
   "outputs": [],
   "source": []
  }
 ],
 "metadata": {
  "interpreter": {
   "hash": "a92e7aacc00c403e8624d110dc267292d63f5178dfd62e2da0702367a749210b"
  },
  "kernelspec": {
   "display_name": "Python 3.9.7 64-bit ('python-cookbook-server')",
   "language": "python",
   "name": "python3"
  },
  "language_info": {
   "codemirror_mode": {
    "name": "ipython",
    "version": 3
   },
   "file_extension": ".py",
   "mimetype": "text/x-python",
   "name": "python",
   "nbconvert_exporter": "python",
   "pygments_lexer": "ipython3",
   "version": "3.9.7"
  },
  "orig_nbformat": 4
 },
 "nbformat": 4,
 "nbformat_minor": 2
}
